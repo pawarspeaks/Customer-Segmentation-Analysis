{
 "cells": [
  {
   "cell_type": "code",
   "execution_count": 1,
   "id": "eadeb61f",
   "metadata": {
    "execution": {
     "iopub.execute_input": "2025-01-28T19:43:24.707246Z",
     "iopub.status.busy": "2025-01-28T19:43:24.707246Z",
     "iopub.status.idle": "2025-01-28T19:43:26.040040Z",
     "shell.execute_reply": "2025-01-28T19:43:26.039536Z"
    }
   },
   "outputs": [],
   "source": [
    "import pandas as pd\n",
    "import numpy as np\n",
    "from sklearn.preprocessing import StandardScaler\n",
    "from sklearn.metrics.pairwise import cosine_similarity"
   ]
  },
  {
   "cell_type": "code",
   "execution_count": 2,
   "id": "d9bb5a77",
   "metadata": {
    "execution": {
     "iopub.execute_input": "2025-01-28T19:43:26.042946Z",
     "iopub.status.busy": "2025-01-28T19:43:26.042946Z",
     "iopub.status.idle": "2025-01-28T19:43:26.073083Z",
     "shell.execute_reply": "2025-01-28T19:43:26.069543Z"
    }
   },
   "outputs": [],
   "source": [
    "# Load the datasets\n",
    "customers_df = pd.read_csv('Customers.csv')\n",
    "transactions_df = pd.read_csv('Transactions.csv')\n",
    "products_df = pd.read_csv('Products.csv')  # Added this line\n",
    "customer_metrics = pd.read_csv('customer_metrics.csv')"
   ]
  },
  {
   "cell_type": "code",
   "execution_count": 3,
   "id": "b3b6db3d",
   "metadata": {
    "execution": {
     "iopub.execute_input": "2025-01-28T19:43:26.081355Z",
     "iopub.status.busy": "2025-01-28T19:43:26.080354Z",
     "iopub.status.idle": "2025-01-28T19:43:26.101689Z",
     "shell.execute_reply": "2025-01-28T19:43:26.100646Z"
    }
   },
   "outputs": [],
   "source": [
    "# Create customer features\n",
    "def create_customer_features():\n",
    "    # RFM Analysis\n",
    "    today = pd.to_datetime(transactions_df['TransactionDate']).max()\n",
    "    \n",
    "    rfm = transactions_df.groupby('CustomerID').agg({\n",
    "        'TransactionDate': lambda x: (today - pd.to_datetime(x.max())).days,  # Recency\n",
    "        'TransactionID': 'count',  # Frequency\n",
    "        'TotalValue': 'sum'  # Monetary\n",
    "    })\n",
    "    \n",
    "    rfm.columns = ['Recency', 'Frequency', 'Monetary']\n",
    "    \n",
    "    # Category preferences\n",
    "    category_preferences = pd.pivot_table(\n",
    "        transactions_df.merge(products_df, on='ProductID'),\n",
    "        index='CustomerID',\n",
    "        columns='Category',\n",
    "        values='Quantity',\n",
    "        aggfunc='sum',\n",
    "        fill_value=0\n",
    "    )\n",
    "    \n",
    "    # Combine features\n",
    "    customer_features = rfm.join(category_preferences)\n",
    "    \n",
    "    return customer_features"
   ]
  },
  {
   "cell_type": "code",
   "execution_count": 4,
   "id": "2a3eba4c",
   "metadata": {
    "execution": {
     "iopub.execute_input": "2025-01-28T19:43:26.105647Z",
     "iopub.status.busy": "2025-01-28T19:43:26.105647Z",
     "iopub.status.idle": "2025-01-28T19:43:26.179517Z",
     "shell.execute_reply": "2025-01-28T19:43:26.177955Z"
    }
   },
   "outputs": [],
   "source": [
    "# Create features and normalize\n",
    "customer_features = create_customer_features()\n",
    "scaler = StandardScaler()\n",
    "normalized_features = scaler.fit_transform(customer_features)\n",
    "similarity_matrix = cosine_similarity(normalized_features)"
   ]
  },
  {
   "cell_type": "code",
   "execution_count": 5,
   "id": "77da456a",
   "metadata": {
    "execution": {
     "iopub.execute_input": "2025-01-28T19:43:26.181994Z",
     "iopub.status.busy": "2025-01-28T19:43:26.181994Z",
     "iopub.status.idle": "2025-01-28T19:43:26.194446Z",
     "shell.execute_reply": "2025-01-28T19:43:26.193533Z"
    }
   },
   "outputs": [],
   "source": [
    "# Create lookup dictionary for customer indices\n",
    "customer_indices = {cust_id: idx for idx, cust_id in enumerate(customer_features.index)}"
   ]
  },
  {
   "cell_type": "code",
   "execution_count": 6,
   "id": "92bfccad",
   "metadata": {
    "execution": {
     "iopub.execute_input": "2025-01-28T19:43:26.197441Z",
     "iopub.status.busy": "2025-01-28T19:43:26.197441Z",
     "iopub.status.idle": "2025-01-28T19:43:26.210623Z",
     "shell.execute_reply": "2025-01-28T19:43:26.209409Z"
    }
   },
   "outputs": [],
   "source": [
    "def get_top_lookalikes(customer_id, n=3):\n",
    "    if customer_id not in customer_indices:\n",
    "        return []\n",
    "    \n",
    "    idx = customer_indices[customer_id]\n",
    "    similar_scores = similarity_matrix[idx]\n",
    "    \n",
    "    # Get top N similar customers (excluding self)\n",
    "    similar_indices = similar_scores.argsort()[::-1][1:n+1]\n",
    "    \n",
    "    return [(customer_features.index[i], similar_scores[i]) for i in similar_indices]\n"
   ]
  },
  {
   "cell_type": "code",
   "execution_count": 7,
   "id": "59c71505",
   "metadata": {
    "execution": {
     "iopub.execute_input": "2025-01-28T19:43:26.213657Z",
     "iopub.status.busy": "2025-01-28T19:43:26.213657Z",
     "iopub.status.idle": "2025-01-28T19:43:26.226030Z",
     "shell.execute_reply": "2025-01-28T19:43:26.225028Z"
    }
   },
   "outputs": [],
   "source": [
    "# Generate lookalikes for customers C0001-C0020\n",
    "lookalike_results = {}\n",
    "for i in range(1, 21):\n",
    "    customer_id = f'C{i:04d}'\n",
    "    lookalikes = get_top_lookalikes(customer_id)\n",
    "    lookalike_results[customer_id] = lookalikes\n"
   ]
  },
  {
   "cell_type": "code",
   "execution_count": 8,
   "id": "560b4483",
   "metadata": {
    "execution": {
     "iopub.execute_input": "2025-01-28T19:43:26.228538Z",
     "iopub.status.busy": "2025-01-28T19:43:26.228538Z",
     "iopub.status.idle": "2025-01-28T19:43:26.317656Z",
     "shell.execute_reply": "2025-01-28T19:43:26.317138Z"
    }
   },
   "outputs": [],
   "source": [
    "# Create and save the Lookalike.csv\n",
    "lookalike_df = pd.DataFrame(columns=['CustomerID', 'Lookalike1', 'Score1', \n",
    "                                     'Lookalike2', 'Score2', \n",
    "                                     'Lookalike3', 'Score3'])\n",
    "\n",
    "for cust_id, lookalikes in lookalike_results.items():\n",
    "    row = {\n",
    "        'CustomerID': cust_id,\n",
    "        'Lookalike1': lookalikes[0][0] if lookalikes else None,\n",
    "        'Score1': lookalikes[0][1] if lookalikes else None,\n",
    "        'Lookalike2': lookalikes[1][0] if len(lookalikes) > 1 else None,\n",
    "        'Score2': lookalikes[1][1] if len(lookalikes) > 1 else None,\n",
    "        'Lookalike3': lookalikes[2][0] if len(lookalikes) > 2 else None,\n",
    "        'Score3': lookalikes[2][1] if len(lookalikes) > 2 else None\n",
    "    }\n",
    "    lookalike_df = lookalike_df.append(row, ignore_index=True)\n",
    "\n",
    "lookalike_df.to_csv('Pratap_Pawar_Lookalike.csv', index=False)"
   ]
  }
 ],
 "metadata": {
  "kernelspec": {
   "display_name": "Python 3",
   "name": "python3"
  },
  "language_info": {
   "codemirror_mode": {
    "name": "ipython",
    "version": 3
   },
   "file_extension": ".py",
   "mimetype": "text/x-python",
   "name": "python",
   "nbconvert_exporter": "python",
   "pygments_lexer": "ipython3",
   "version": "3.9.14"
  }
 },
 "nbformat": 4,
 "nbformat_minor": 2
}
